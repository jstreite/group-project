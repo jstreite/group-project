{
 "cells": [
  {
   "cell_type": "code",
   "execution_count": 10,
   "metadata": {},
   "outputs": [],
   "source": []
  },
  {
   "cell_type": "code",
   "execution_count": 11,
   "metadata": {},
   "outputs": [
    {
     "name": "stdout",
     "output_type": "stream",
     "text": [
      "Enterlucky\n",
      "Invalid Entry \n"
     ]
    },
    {
     "ename": "NameError",
     "evalue": "name 'dsample' is not defined",
     "output_type": "error",
     "traceback": [
      "\u001b[1;31m---------------------------------------------------------------------------\u001b[0m",
      "\u001b[1;31mNameError\u001b[0m                                 Traceback (most recent call last)",
      "\u001b[1;32m<ipython-input-11-831871bce348>\u001b[0m in \u001b[0;36m<module>\u001b[1;34m\u001b[0m\n\u001b[0;32m      1\u001b[0m \u001b[0mstart_search\u001b[0m \u001b[1;33m=\u001b[0m \u001b[0minput\u001b[0m\u001b[1;33m(\u001b[0m\u001b[1;34m\"Enter\"\u001b[0m\u001b[1;33m)\u001b[0m\u001b[1;33m\u001b[0m\u001b[0m\n\u001b[1;32m----> 2\u001b[1;33m \u001b[0mprogram_output\u001b[0m\u001b[1;33m(\u001b[0m\u001b[0mstart_search\u001b[0m\u001b[1;33m)\u001b[0m\u001b[1;33m\u001b[0m\u001b[0m\n\u001b[0m",
      "\u001b[1;32m<ipython-input-10-070207d7be64>\u001b[0m in \u001b[0;36mprogram_output\u001b[1;34m(start_search)\u001b[0m\n\u001b[0;32m     17\u001b[0m         \u001b[0mprint\u001b[0m\u001b[1;33m(\u001b[0m\u001b[1;34m\"Invalid Entry \"\u001b[0m\u001b[1;33m)\u001b[0m\u001b[1;33m\u001b[0m\u001b[0m\n\u001b[0;32m     18\u001b[0m \u001b[1;33m\u001b[0m\u001b[0m\n\u001b[1;32m---> 19\u001b[1;33m     \u001b[1;32mreturn\u001b[0m\u001b[1;33m(\u001b[0m\u001b[0mdsample\u001b[0m\u001b[1;33m)\u001b[0m\u001b[1;33m\u001b[0m\u001b[0m\n\u001b[0m",
      "\u001b[1;31mNameError\u001b[0m: name 'dsample' is not defined"
     ]
    }
   ],
   "source": [
    "start_search = input(\"Enter\")\n",
    "program_output(start_search)"
   ]
  },
  {
   "cell_type": "code",
   "execution_count": 1,
   "metadata": {},
   "outputs": [],
   "source": [
    "import pandas as pd\n",
    "import requests as req \n",
    "import json \n",
    "\n",
    "import warnings\n",
    "warnings.filterwarnings('ignore')\n",
    "\n",
    "books_db = pd.read_csv\n",
    "\n"
   ]
  },
  {
   "cell_type": "code",
   "execution_count": null,
   "metadata": {},
   "outputs": [
    {
     "name": "stdout",
     "output_type": "stream",
     "text": [
      "BUZZEBEE BOOK FINDER!\n",
      "Enter 'Lucky' to generate a random selection of books OR 'Custom' to generate a personalized selection!Lucky\n"
     ]
    }
   ],
   "source": [
    "import pandas as pd\n",
    "import requests as req \n",
    "import json \n",
    "\n",
    "import warnings\n",
    "warnings.filterwarnings('ignore')\n",
    "\n",
    "books_db = pd.read_csv('books.csv') # converting out data into a dataframe \n",
    "\n",
    "\n",
    "genre_list = books_db['Genre'].tolist()\n",
    "genre_list\n",
    "\n",
    "\n",
    "\n",
    "print('BUZZEBEE BOOK FINDER!')\n",
    "\n",
    "start_search = input(\"Enter 'Lucky' to generate a random selection of books OR 'Custom' to generate a personalized selection!\")\n",
    "if start_search =='Lucky':\n",
    "    break\n",
    "\n",
    "\n",
    "# genre database\n",
    "genre_pref = input(\"Enter Your Favorite Genre From The List of Genres:\")\n",
    "genre = books_db['Genre']== genre_pref\n",
    "genre_db = books_db[genre]\n",
    "genre_db\n",
    "\n",
    "# rate database\n",
    "\n",
    "rate_pref = int(input(\"On a scale of 1-4, how important is the rate of the book? (1 being low importance, 4 being high importance): \"))\n",
    "\n",
    "if rate_pref==1: \n",
    "    rate_db = genre_db\n",
    "    \n",
    "elif rate_pref==2:\n",
    "    rate_db = genre_db[ genre_db['Rating']>=2.0]\n",
    "\n",
    "elif rate_pref==3:\n",
    "    rate_db = genre_db[ genre_db['Rating']>=3.0]\n",
    "    \n",
    "elif rate_pref==4:\n",
    "    rate_db = genre_db[ genre_db['Rating']>=4.3]\n",
    "    \n",
    "else: \n",
    "    print('Invalid Entry')\n",
    "    \n",
    "    \n",
    "# pages database    \n",
    "\n",
    "print('1 = any amount of pages\\n2 = less than 200 pages\\n3 = 200-400 pages\\n4 = greater than 400 pages')    \n",
    "pages_pref = int(input(\"On a 1-4 scale, rate how long you would like the book to be: \"))\n",
    "\n",
    "if pages_pref==1:\n",
    "    pages_db = rate_db\n",
    "\n",
    "elif pages_pref==2:\n",
    "    pages_db = rate_db[ rate_db['PAges']> 200]\n",
    "    \n",
    "elif pages_pref==3:\n",
    "    pages_db = rate_db.query('200 <= PAges <= 400')\n",
    "    \n",
    "elif pages_pref==4:\n",
    "    pages_db = rate_db[ rate_db['PAges']> 400]\n",
    "    \n",
    "else: \n",
    "    print('Invalid Entry')\n",
    "    \n",
    "# publish year database\n",
    "\n",
    "print(\"1 = doesn't matter to me!\\n2 = 1800s to 1920s\\n3 = 1920s to 1990s\\n4 = 1990s to Current\")\n",
    "year_pref = int(input(\"On a scale of 1-4, rate how old or new you would like the book to be: \"))\n",
    "\n",
    "if year_pref==1:\n",
    "    year_db = pages_db\n",
    "    \n",
    "elif year_pref==2:\n",
    "    year_db = pages_db.query('1800 <= Year <= 1920')\n",
    "    \n",
    "elif year_pref==3:\n",
    "    year_db = pages_db.query('1921 <= Year <= 1990')\n",
    "    \n",
    "elif year_pref==4:\n",
    "    year_db = pages_db[ pages_db['Year']>1990]\n",
    "\n",
    "year_db\n"
   ]
  },
  {
   "cell_type": "markdown",
   "metadata": {},
   "source": [
    "# print('1 = any amount of pages\\n2 = less than 200 pages\\n3 = 200-400 pages\\n4 = greater than 400 pages')\n"
   ]
  },
  {
   "cell_type": "code",
   "execution_count": null,
   "metadata": {},
   "outputs": [],
   "source": [
    "\n",
    "\n"
   ]
  },
  {
   "cell_type": "code",
   "execution_count": null,
   "metadata": {},
   "outputs": [],
   "source": [
    "start_search = input(\"Enter Lucky or Tailored\")\n",
    "program_output(start_search)"
   ]
  },
  {
   "cell_type": "code",
   "execution_count": null,
   "metadata": {},
   "outputs": [],
   "source": []
  }
 ],
 "metadata": {
  "kernelspec": {
   "display_name": "Python 3",
   "language": "python",
   "name": "python3"
  },
  "language_info": {
   "codemirror_mode": {
    "name": "ipython",
    "version": 3
   },
   "file_extension": ".py",
   "mimetype": "text/x-python",
   "name": "python",
   "nbconvert_exporter": "python",
   "pygments_lexer": "ipython3",
   "version": "3.6.6"
  }
 },
 "nbformat": 4,
 "nbformat_minor": 2
}
