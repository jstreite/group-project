{
 "cells": [
  {
   "cell_type": "code",
   "execution_count": null,
   "metadata": {},
   "outputs": [],
   "source": []
  },
  {
   "cell_type": "code",
   "execution_count": 2,
   "metadata": {
    "scrolled": false
   },
   "outputs": [],
   "source": [
    "import pandas as pd \n",
    "import requests as req\n",
    "import json \n",
    "\n",
    "\n",
    "import warnings \n",
    "warnings.filterwarnings('ignore')\n",
    "\n",
    "data = pd.read_csv('books.csv') # converting our data into a dataframe\n"
   ]
  },
  {
   "cell_type": "code",
   "execution_count": 2,
   "metadata": {
    "scrolled": true
   },
   "outputs": [
    {
     "name": "stdout",
     "output_type": "stream",
     "text": [
      "The Perfect Book List \n",
      " \n",
      "Lucky outputs random book list\n",
      "Search allows you to search our libary for specific books\n",
      "Tailored outputs book list based on your responses \n",
      "\n"
     ]
    }
   ],
   "source": [
    "print(\"The Perfect Book List \\n \")\n",
    "\n",
    "print(\"Lucky outputs random book list\")\n",
    "print(\"Search allows you to search our libary for specific books\")\n",
    "print('Tailored outputs book list based on your responses \\n')\n",
    "\n",
    "\n"
   ]
  },
  {
   "cell_type": "code",
   "execution_count": 6,
   "metadata": {},
   "outputs": [
    {
     "name": "stdout",
     "output_type": "stream",
     "text": [
      "GENRE PREFERENCE\n",
      "Enter Your Favorite From the List of Genres: Art\n",
      "PAGE NUMBER PREFERENCE\n",
      "1 for books with any amount of pages\n",
      "2 for books with 100 pages of less\n",
      "3 for books with 300 pages of less\n",
      "4 for books with more than 300 pages\n",
      "On a scale from 1-4, how long do you want the book to be? 4\n",
      "BOOK RATING PREFERENCE\n",
      "How important is the rating of the book on a scale of 1-4? 1 being low, 4 being high\n",
      "Enter a number 1-4: 4\n"
     ]
    },
    {
     "data": {
      "text/html": [
       "<div>\n",
       "<style scoped>\n",
       "    .dataframe tbody tr th:only-of-type {\n",
       "        vertical-align: middle;\n",
       "    }\n",
       "\n",
       "    .dataframe tbody tr th {\n",
       "        vertical-align: top;\n",
       "    }\n",
       "\n",
       "    .dataframe thead th {\n",
       "        text-align: right;\n",
       "    }\n",
       "</style>\n",
       "<table border=\"1\" class=\"dataframe\">\n",
       "  <thead>\n",
       "    <tr style=\"text-align: right;\">\n",
       "      <th></th>\n",
       "      <th>Title</th>\n",
       "      <th>Author</th>\n",
       "      <th>Genre</th>\n",
       "      <th>PAges</th>\n",
       "      <th>Rating</th>\n",
       "      <th>Publisher</th>\n",
       "    </tr>\n",
       "  </thead>\n",
       "  <tbody>\n",
       "    <tr>\n",
       "      <th>238</th>\n",
       "      <td>The Illusion of Life: Disney Animation</td>\n",
       "      <td>Frank Thomas</td>\n",
       "      <td>Art</td>\n",
       "      <td>576</td>\n",
       "      <td>4.34</td>\n",
       "      <td>Disney Editions</td>\n",
       "    </tr>\n",
       "    <tr>\n",
       "      <th>248</th>\n",
       "      <td>The Animator's Survival Kit: A Manual of Metho...</td>\n",
       "      <td>Richard Williams</td>\n",
       "      <td>Art</td>\n",
       "      <td>342</td>\n",
       "      <td>4.34</td>\n",
       "      <td>Faber &amp; Faber</td>\n",
       "    </tr>\n",
       "    <tr>\n",
       "      <th>252</th>\n",
       "      <td>Gödel, Escher, Bach: An Eternal Golden Braid</td>\n",
       "      <td>Douglas R. Hofstadter</td>\n",
       "      <td>Art</td>\n",
       "      <td>777</td>\n",
       "      <td>4.30</td>\n",
       "      <td>Basic Books</td>\n",
       "    </tr>\n",
       "    <tr>\n",
       "      <th>302</th>\n",
       "      <td>Humans of New York</td>\n",
       "      <td>Brandon Stanton</td>\n",
       "      <td>Art</td>\n",
       "      <td>304</td>\n",
       "      <td>4.48</td>\n",
       "      <td>St. Martin's Press</td>\n",
       "    </tr>\n",
       "    <tr>\n",
       "      <th>303</th>\n",
       "      <td>Codex Seraphinianus. Ein Orbis Pictus des Univ...</td>\n",
       "      <td>Luigi Serafini</td>\n",
       "      <td>Art</td>\n",
       "      <td>365</td>\n",
       "      <td>4.52</td>\n",
       "      <td>Prestel</td>\n",
       "    </tr>\n",
       "  </tbody>\n",
       "</table>\n",
       "</div>"
      ],
      "text/plain": [
       "                                                 Title                 Author  \\\n",
       "238             The Illusion of Life: Disney Animation           Frank Thomas   \n",
       "248  The Animator's Survival Kit: A Manual of Metho...       Richard Williams   \n",
       "252       Gödel, Escher, Bach: An Eternal Golden Braid  Douglas R. Hofstadter   \n",
       "302                                 Humans of New York        Brandon Stanton   \n",
       "303  Codex Seraphinianus. Ein Orbis Pictus des Univ...         Luigi Serafini   \n",
       "\n",
       "    Genre  PAges  Rating           Publisher  \n",
       "238   Art    576    4.34     Disney Editions  \n",
       "248   Art    342    4.34       Faber & Faber  \n",
       "252   Art    777    4.30         Basic Books  \n",
       "302   Art    304    4.48  St. Martin's Press  \n",
       "303   Art    365    4.52             Prestel  "
      ]
     },
     "execution_count": 6,
     "metadata": {},
     "output_type": "execute_result"
    }
   ],
   "source": [
    "\n",
    "all_books = pd.read_csv('books.csv')\n",
    "\n",
    "\n",
    "# for a specific genre \n",
    "print('GENRE PREFERENCE')\n",
    "## create list of genres\n",
    "all_books['Genre'].value_counts \n",
    "genre_pref = input(\"Enter Your Favorite From the List of Genres: \")\n",
    "genre = all_books['Genre']==genre_pref # value in genre column eqaul to genre pref\n",
    "genre_db = all_books[genre] # new genre db is all books with new genre values\n",
    "genre_db\n",
    "\n",
    "\n",
    "# under genre find page number preference\n",
    "print('PAGE NUMBER PREFERENCE')\n",
    "print(\"1 for books with any amount of pages\")\n",
    "print(\"2 for books with 100 pages of less\")\n",
    "print(\"3 for books with 300 pages of less\")\n",
    "print(\"4 for books with more than 300 pages\")\n",
    "\n",
    "pages_pref = int(input(\"On a scale from 1-4, how long do you want the book to be? \"))\n",
    "\n",
    "if pages_pref==1:\n",
    "    pages_db = genre_db\n",
    "\n",
    "elif pages_pref==2:\n",
    "    pages_db = genre_db[ genre_db['PAges']<= 100]\n",
    "    \n",
    "elif pages_pref==3:\n",
    "    pages_db = genre_db[ genre_db['PAges']<= 300]\n",
    "    \n",
    "elif pages_pref==4: \n",
    "    pages_db = genre_db[ genre_db['PAges']> 300]\n",
    "    \n",
    "else: \n",
    "    print(\"invalid entry\")\n",
    "\n",
    "\n",
    "print('BOOK RATING PREFERENCE')\n",
    "print('How important is the rating of the book on a scale of 1-4? 1 being low, 4 being high')\n",
    "rate_pref = int(input(\"Enter a number 1-4: \"))\n",
    "if rate_pref==1:\n",
    "    rate_db = pages_db\n",
    "\n",
    "elif rate_pref==2:\n",
    "    rate_db = pages_db[ pages_db['Rating']>=2.0]\n",
    "\n",
    "elif rate_pref==3:\n",
    "    rate_db = pages_db[ pages_db['Rating']>=3.0]\n",
    "    \n",
    "elif rate_pref==4:\n",
    "    rate_db = pages_db[ pages_db['Rating']>=4.3]\n",
    "    \n",
    "else:\n",
    "    print('invalid entry')\n",
    "    \n",
    "print(\"AGE OF BOOK\")\n",
    "print(\"From which years do you\")\n",
    "\n",
    "    \n",
    "\n",
    "\n",
    "\n",
    "\n"
   ]
  },
  {
   "cell_type": "code",
   "execution_count": 19,
   "metadata": {},
   "outputs": [
    {
     "name": "stdout",
     "output_type": "stream",
     "text": [
      "Enter Your Favorite From the List of Genres: Romance\n"
     ]
    }
   ],
   "source": [
    "# create database for each query then append all\n",
    "\n",
    "# genre database\n",
    "books_db['Genre'].value_counts \n",
    "genre_pref = input(\"Enter Your Favorite From the List of Genres: \")\n",
    "genre = books_db['Genre']==genre_pref\n",
    "genre_db = books_db[genre]\n",
    "\n",
    "# rate database\n",
    "\n",
    "# page database\n",
    "\n",
    "# date database"
   ]
  },
  {
   "cell_type": "code",
   "execution_count": 20,
   "metadata": {},
   "outputs": [
    {
     "name": "stdout",
     "output_type": "stream",
     "text": [
      "Enter a Rating 1-4\n",
      "1 for books with any amount of pages\n",
      "2 for books with 100 pages of less\n",
      "3 for books with 300 pages of less\n",
      "4 for books with more than 300 pages\n",
      "Enter a Rate 1-4: 2\n"
     ]
    },
    {
     "ename": "TypeError",
     "evalue": "'method' object is not subscriptable",
     "output_type": "error",
     "traceback": [
      "\u001b[1;31m---------------------------------------------------------------------------\u001b[0m",
      "\u001b[1;31mTypeError\u001b[0m                                 Traceback (most recent call last)",
      "\u001b[1;32m<ipython-input-20-02067cf5de1d>\u001b[0m in \u001b[0;36m<module>\u001b[1;34m\u001b[0m\n\u001b[0;32m     12\u001b[0m \u001b[1;33m\u001b[0m\u001b[0m\n\u001b[0;32m     13\u001b[0m \u001b[1;32melif\u001b[0m \u001b[0mpages_pref\u001b[0m\u001b[1;33m==\u001b[0m\u001b[1;36m2\u001b[0m\u001b[1;33m:\u001b[0m\u001b[1;33m\u001b[0m\u001b[0m\n\u001b[1;32m---> 14\u001b[1;33m     \u001b[0mpages\u001b[0m \u001b[1;33m=\u001b[0m \u001b[0mratings\u001b[0m\u001b[1;33m[\u001b[0m\u001b[1;34m'PAges'\u001b[0m\u001b[1;33m]\u001b[0m\u001b[1;33m<=\u001b[0m\u001b[1;36m100\u001b[0m\u001b[1;33m\u001b[0m\u001b[0m\n\u001b[0m\u001b[0;32m     15\u001b[0m \u001b[1;33m\u001b[0m\u001b[0m\n\u001b[0;32m     16\u001b[0m \u001b[1;33m\u001b[0m\u001b[0m\n",
      "\u001b[1;31mTypeError\u001b[0m: 'method' object is not subscriptable"
     ]
    }
   ],
   "source": [
    "print(\"Enter a Rating 1-4\")\n",
    "print(\"1 for books with any amount of pages\")\n",
    "print(\"2 for books with 100 pages of less\")\n",
    "print(\"3 for books with 300 pages of less\")\n",
    "print(\"4 for books with more than 300 pages\")\n",
    "\n",
    "pages_pref = int(input(\"Enter a Rate 1-4: \"))\n",
    "\n",
    "if pages_pref==1:\n",
    "    pages = ratings\n",
    "\n",
    "elif pages_pref==2:\n",
    "    pages_db = rating[ rating['PAges']<= 100]\n",
    "    \n",
    "\n"
   ]
  },
  {
   "cell_type": "code",
   "execution_count": 21,
   "metadata": {},
   "outputs": [
    {
     "ename": "SyntaxError",
     "evalue": "invalid syntax (<ipython-input-21-da47d5aa6e68>, line 14)",
     "output_type": "error",
     "traceback": [
      "\u001b[1;36m  File \u001b[1;32m\"<ipython-input-21-da47d5aa6e68>\"\u001b[1;36m, line \u001b[1;32m14\u001b[0m\n\u001b[1;33m    page = ratings['PAges']f\u001b[0m\n\u001b[1;37m                           ^\u001b[0m\n\u001b[1;31mSyntaxError\u001b[0m\u001b[1;31m:\u001b[0m invalid syntax\n"
     ]
    }
   ],
   "source": [
    "pages_pref = int(input('pages of books'))*100\n",
    "page = ratings['PAges']>= pages_pref\n",
    "if pages_pref <= 100:\n",
    "    page = ratings['PAges']<= pages_pref\n",
    "    pages = ratings[page]\n",
    "    \n",
    "elif pages_pref <= 200:\n",
    "    #pages_pref in range (100,201)\n",
    "    page = ratings['PAges']\n",
    "    pages = ratings[page]\n",
    "\n",
    "elif pages_pref >= 300:\n",
    "    #pages_pref in range (200,301)\n",
    "    page = ratings['PAges']f\n",
    "    pages = ratings[page]\n",
    "\n",
    "elif pages_pref >= 400:\n",
    "    #pages_pref in range (300,600)\n",
    "    page = ratings['PAges']\n",
    "    pages = ratings[page]\n",
    "\n",
    "pages\n",
    "\n"
   ]
  },
  {
   "cell_type": "code",
   "execution_count": null,
   "metadata": {},
   "outputs": [],
   "source": []
  },
  {
   "cell_type": "code",
   "execution_count": null,
   "metadata": {},
   "outputs": [],
   "source": []
  },
  {
   "cell_type": "code",
   "execution_count": null,
   "metadata": {},
   "outputs": [],
   "source": []
  },
  {
   "cell_type": "code",
   "execution_count": null,
   "metadata": {},
   "outputs": [],
   "source": [
    "start_search = input(\"Enter Lucky, or Tailored:\").upper()\n",
    "\n",
    "def sample_output(start_search):\n",
    "\n",
    "    if start_search == \"LUCKY\":\n",
    "        a = data.sample(3) # won't print out in a dataframe why? \n",
    "    else:\n",
    "        print('okay')\n",
    "\n",
    "    return (a)\n",
    "sample_output(start_search)"
   ]
  },
  {
   "cell_type": "code",
   "execution_count": null,
   "metadata": {},
   "outputs": [],
   "source": [
    "start_search = input(\"Enter Lucky, Search or Tailored:\").upper()\n",
    "sample_output(start_search)\n"
   ]
  },
  {
   "cell_type": "code",
   "execution_count": null,
   "metadata": {},
   "outputs": [],
   "source": [
    "\n"
   ]
  }
 ],
 "metadata": {
  "kernelspec": {
   "display_name": "Python 3",
   "language": "python",
   "name": "python3"
  },
  "language_info": {
   "codemirror_mode": {
    "name": "ipython",
    "version": 3
   },
   "file_extension": ".py",
   "mimetype": "text/x-python",
   "name": "python",
   "nbconvert_exporter": "python",
   "pygments_lexer": "ipython3",
   "version": "3.6.6"
  }
 },
 "nbformat": 4,
 "nbformat_minor": 2
}
