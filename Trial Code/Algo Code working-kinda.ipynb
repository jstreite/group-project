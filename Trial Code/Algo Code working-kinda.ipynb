{
 "cells": [
  {
   "cell_type": "code",
   "execution_count": null,
   "metadata": {},
   "outputs": [],
   "source": []
  },
  {
   "cell_type": "code",
   "execution_count": 1,
   "metadata": {
    "scrolled": false
   },
   "outputs": [],
   "source": [
    "import pandas as pd \n",
    "import requests as req\n",
    "import json \n",
    "\n",
    "\n",
    "import warnings \n",
    "warnings.filterwarnings('ignore')\n",
    "\n",
    "data = pd.read_csv('books.csv') # converting our data into a dataframe\n"
   ]
  },
  {
   "cell_type": "code",
   "execution_count": 5,
   "metadata": {
    "scrolled": true
   },
   "outputs": [
    {
     "name": "stdout",
     "output_type": "stream",
     "text": [
      "The Perfect Book List \n",
      " \n",
      "Lucky outputs random book list\n",
      "Search allows you to search our libary for specific books\n",
      "Tailored outputs book list based on your responses \n",
      "\n"
     ]
    }
   ],
   "source": [
    "print(\"The Perfect Book List \\n \")\n",
    "\n",
    "print(\"Lucky outputs random book list\")\n",
    "print(\"Search allows you to search our libary for specific books\")\n",
    "print('Tailored outputs book list based on your responses \\n')\n",
    "\n",
    "\n",
    "\n"
   ]
  },
  {
   "cell_type": "code",
   "execution_count": 6,
<<<<<<< HEAD
   "metadata": {
    "scrolled": true
   },
=======
   "metadata": {},
>>>>>>> f68a2c33b652db75172733aedfd145847e130728
   "outputs": [
    {
     "name": "stdout",
     "output_type": "stream",
     "text": [
<<<<<<< HEAD
      "Science\n",
      "Anime \n",
      "Spirituality \n",
      "Art\n",
      "Poetry\n",
      "History\n",
      "Psychology\n",
      "Memoir\n",
      "Suspense\n",
      "Paranormal\n",
      "Fiction\n",
      "Science Fiction\n",
      "Religion\n",
      "Cookbooks\n",
      "Children\n",
      "Nonfiction\n",
      "Graphic Novels\n",
      "Mystery\n",
      "Chick Lit\n",
      "Manga\n",
      "Contemporary\n",
      "Horror\n",
      "Music\n",
      "LGBTQ\n",
      "Classic\n",
      "Romance\n",
      "Comics\n",
      "Fantasy\n",
      "Ebooks\n",
      "Business\n",
      "Self Help\n",
      "Historical Fiction\n",
      "Biography\n",
      "Philosophy\n",
      "Crime\n"
=======
      "GENRE PREFERENCE\n",
      "Enter Your Favorite From the List of Genres: Art\n",
      "PAGE NUMBER PREFERENCE\n",
      "1 for books with any amount of pages\n",
      "2 for books with 100 pages of less\n",
      "3 for books with 300 pages of less\n",
      "4 for books with more than 300 pages\n",
      "On a scale from 1-4, how long do you want the book to be? 4\n",
      "BOOK RATING PREFERENCE\n",
      "How important is the rating of the book on a scale of 1-4? 1 being low, 4 being high\n",
      "Enter a number 1-4: 4\n"
>>>>>>> f68a2c33b652db75172733aedfd145847e130728
     ]
    }
   ],
   "source": [
    "genre_list =data['Genre'].tolist()\n",
    "genre_list\n",
    "def unique(genre_list):\n",
    "    list_set = set(genre_list)\n",
    "    unique_list = list(list_set)\n",
    "    for x in unique_list:\n",
    "        print(x)\n",
    "unique(genre_list)"
   ]
  },
  {
   "cell_type": "code",
   "execution_count": null,
   "metadata": {},
   "outputs": [
    {
<<<<<<< HEAD
     "name": "stdout",
     "output_type": "stream",
     "text": [
      "GENRE PREFERENCE\n"
     ]
=======
     "data": {
      "text/html": [
       "<div>\n",
       "<style scoped>\n",
       "    .dataframe tbody tr th:only-of-type {\n",
       "        vertical-align: middle;\n",
       "    }\n",
       "\n",
       "    .dataframe tbody tr th {\n",
       "        vertical-align: top;\n",
       "    }\n",
       "\n",
       "    .dataframe thead th {\n",
       "        text-align: right;\n",
       "    }\n",
       "</style>\n",
       "<table border=\"1\" class=\"dataframe\">\n",
       "  <thead>\n",
       "    <tr style=\"text-align: right;\">\n",
       "      <th></th>\n",
       "      <th>Title</th>\n",
       "      <th>Author</th>\n",
       "      <th>Genre</th>\n",
       "      <th>PAges</th>\n",
       "      <th>Rating</th>\n",
       "      <th>Publisher</th>\n",
       "    </tr>\n",
       "  </thead>\n",
       "  <tbody>\n",
       "    <tr>\n",
       "      <th>238</th>\n",
       "      <td>The Illusion of Life: Disney Animation</td>\n",
       "      <td>Frank Thomas</td>\n",
       "      <td>Art</td>\n",
       "      <td>576</td>\n",
       "      <td>4.34</td>\n",
       "      <td>Disney Editions</td>\n",
       "    </tr>\n",
       "    <tr>\n",
       "      <th>248</th>\n",
       "      <td>The Animator's Survival Kit: A Manual of Metho...</td>\n",
       "      <td>Richard Williams</td>\n",
       "      <td>Art</td>\n",
       "      <td>342</td>\n",
       "      <td>4.34</td>\n",
       "      <td>Faber &amp; Faber</td>\n",
       "    </tr>\n",
       "    <tr>\n",
       "      <th>252</th>\n",
       "      <td>Gödel, Escher, Bach: An Eternal Golden Braid</td>\n",
       "      <td>Douglas R. Hofstadter</td>\n",
       "      <td>Art</td>\n",
       "      <td>777</td>\n",
       "      <td>4.30</td>\n",
       "      <td>Basic Books</td>\n",
       "    </tr>\n",
       "    <tr>\n",
       "      <th>302</th>\n",
       "      <td>Humans of New York</td>\n",
       "      <td>Brandon Stanton</td>\n",
       "      <td>Art</td>\n",
       "      <td>304</td>\n",
       "      <td>4.48</td>\n",
       "      <td>St. Martin's Press</td>\n",
       "    </tr>\n",
       "    <tr>\n",
       "      <th>303</th>\n",
       "      <td>Codex Seraphinianus. Ein Orbis Pictus des Univ...</td>\n",
       "      <td>Luigi Serafini</td>\n",
       "      <td>Art</td>\n",
       "      <td>365</td>\n",
       "      <td>4.52</td>\n",
       "      <td>Prestel</td>\n",
       "    </tr>\n",
       "  </tbody>\n",
       "</table>\n",
       "</div>"
      ],
      "text/plain": [
       "                                                 Title                 Author  \\\n",
       "238             The Illusion of Life: Disney Animation           Frank Thomas   \n",
       "248  The Animator's Survival Kit: A Manual of Metho...       Richard Williams   \n",
       "252       Gödel, Escher, Bach: An Eternal Golden Braid  Douglas R. Hofstadter   \n",
       "302                                 Humans of New York        Brandon Stanton   \n",
       "303  Codex Seraphinianus. Ein Orbis Pictus des Univ...         Luigi Serafini   \n",
       "\n",
       "    Genre  PAges  Rating           Publisher  \n",
       "238   Art    576    4.34     Disney Editions  \n",
       "248   Art    342    4.34       Faber & Faber  \n",
       "252   Art    777    4.30         Basic Books  \n",
       "302   Art    304    4.48  St. Martin's Press  \n",
       "303   Art    365    4.52             Prestel  "
      ]
     },
     "execution_count": 6,
     "metadata": {},
     "output_type": "execute_result"
>>>>>>> f68a2c33b652db75172733aedfd145847e130728
    }
   ],
   "source": [
    "\n",
    "books_db = pd.read_csv('books.csv')\n",
    "\n",
    "\n",
    "# for a specific genre \n",
    "print('GENRE PREFERENCE')\n",
    "## create list of genres\n",
    "books_db['Genre'].value_counts \n",
    "genre_pref = input(\"Enter Your Favorite From the List of Genres: \")\n",
    "genre = books_db['Genre']==genre_pref # value in genre column eqaul to genre pref\n",
    "genre_db = books_db[genre] # new genre db is all books with new genre values\n",
    "genre_db\n",
    "\n",
    "\n",
    "# under genre find page number preference\n",
    "print('PAGE NUMBER PREFERENCE')\n",
    "print(\"1 for books with any amount of pages\")\n",
    "print(\"2 for books with 100 pages of less\")\n",
    "print(\"3 for books with 300 pages of less\")\n",
    "print(\"4 for books with more than 300 pages\")\n",
    "\n",
    "pages_pref = int(input(\"On a scale from 1-4, how long do you want the book to be? \"))\n",
    "\n",
    "if pages_pref==1:\n",
    "    pages_db = genre_db\n",
    "\n",
    "elif pages_pref==2:\n",
    "    pages_db = genre_db.query('100 <= PAges <= 200')\n",
    "\n",
    "elif pages_pref==3:\n",
    "    pages_db = genre_db.query('200 <= PAges <= 300')\n",
    "    \n",
    "elif pages_pref==4: \n",
    "    pages_db = genre_db.query('300 <= PAges <= 500')\n",
    "else: \n",
    "    print(\"invalid entry\")\n",
    "\n",
    "\n",
    "print('BOOK RATING PREFERENCE')\n",
    "print('How important is the rating of the book on a scale of 1-4? 1 being low, 4 being high')\n",
    "rate_pref = int(input(\"Enter a number 1-4: \"))\n",
    "if rate_pref==1:\n",
    "    rate_db = pages_db\n",
    "\n",
    "elif rate_pref==2:\n",
    "    rate_db = pages_db[ pages_db['Rating']>=2.0]\n",
    "\n",
    "elif rate_pref==3:\n",
    "    rate_db = pages_db[ pages_db['Rating']>=3.0]\n",
    "    \n",
    "elif rate_pref==4:\n",
    "    rate_db = pages_db[ pages_db['Rating']>=4.3]\n",
    "    \n",
    "else:\n",
    "    print('invalid entry')\n",
    "    \n",
    "print(\"AGE OF BOOK\")\n",
    "print(\"From which years do you\")\n",
    "\n",
    "\n",
    "\n",
    "\n",
    "year_pref = int(input(\"On a scale from 1-4, how old do you want the book to be?\"))\n",
    "\n",
    "if year_pref == 1:\n",
    "    year_db = pages_db \n",
    "\n",
    "elif year_pref == 2:\n",
    "    year_db = pages_db.query('1900 <= Year <= 1960')\n",
    "\n",
    "elif year_pref == 3:\n",
    "    year_db = pages_db.query('1961 <= Year <= 1990')\n",
    "    \n",
    "elif year_pref == 4:\n",
    "    year_db = pages_db.query('1991 <= Year <= 2018')\n",
    "    \n",
    "year_db\n",
    "\n",
    "\n",
    "\n",
    "                            \n",
    "                             \n",
    "                            "
   ]
  },
  {
   "cell_type": "code",
   "execution_count": null,
   "metadata": {},
   "outputs": [],
   "source": []
  },
  {
   "cell_type": "code",
   "execution_count": 5,
   "metadata": {},
   "outputs": [
    {
     "name": "stdout",
     "output_type": "stream",
     "text": [
      "Enter Your Favorite From the List of Genres: Romance\n"
     ]
    }
   ],
   "source": [
    "# create database for each query then append all\n",
    "\n",
    "# genre database\n",
    "books_db['Genre'].value_counts \n",
    "genre_pref = input(\"Enter Your Favorite From the List of Genres: \")\n",
    "genre = books_db['Genre']==genre_pref\n",
    "genre_db = books_db[genre]\n",
    "\n",
    "# rate database\n",
    "\n",
    "# page database\n",
    "\n",
    "# date database"
   ]
  },
  {
   "cell_type": "code",
   "execution_count": null,
   "metadata": {},
   "outputs": [],
   "source": [
    "\n"
   ]
  },
  {
   "cell_type": "code",
   "execution_count": null,
   "metadata": {},
   "outputs": [],
   "source": []
  },
  {
   "cell_type": "code",
   "execution_count": null,
   "metadata": {},
   "outputs": [],
   "source": [
    "\n",
    "\n"
   ]
  },
  {
   "cell_type": "code",
   "execution_count": 9,
   "metadata": {},
   "outputs": [
    {
     "ename": "SyntaxError",
     "evalue": "invalid syntax (<ipython-input-9-48524abf1f8f>, line 1)",
     "output_type": "error",
     "traceback": [
      "\u001b[0;36m  File \u001b[0;32m\"<ipython-input-9-48524abf1f8f>\"\u001b[0;36m, line \u001b[0;32m1\u001b[0m\n\u001b[0;31m    rating[['PAges']rating['PAges']>100]\u001b[0m\n\u001b[0m                         ^\u001b[0m\n\u001b[0;31mSyntaxError\u001b[0m\u001b[0;31m:\u001b[0m invalid syntax\n"
     ]
    }
   ],
   "source": []
  },
  {
   "cell_type": "code",
   "execution_count": null,
   "metadata": {},
   "outputs": [],
   "source": [
    "start_search = input(\"Enter Lucky, or Tailored:\").upper()\n",
    "\n",
    "def sample_output(start_search):\n",
    "\n",
    "    if start_search == \"LUCKY\":\n",
    "        a = data.sample(3) # won't print out in a dataframe why? \n",
    "    else:\n",
    "        print('okay')\n",
    "\n",
    "    return (a)\n",
    "sample_output(start_search)"
   ]
  },
  {
   "cell_type": "code",
   "execution_count": null,
   "metadata": {},
   "outputs": [],
   "source": [
    "start_search = input(\"Enter Lucky, Search or Tailored:\").upper()\n",
    "sample_output(start_search)\n"
   ]
  },
  {
   "cell_type": "code",
   "execution_count": null,
   "metadata": {},
   "outputs": [],
   "source": [
    "\n"
   ]
  }
 ],
 "metadata": {
  "kernelspec": {
   "display_name": "Python 3",
   "language": "python",
   "name": "python3"
  },
  "language_info": {
   "codemirror_mode": {
    "name": "ipython",
    "version": 3
   },
   "file_extension": ".py",
   "mimetype": "text/x-python",
   "name": "python",
   "nbconvert_exporter": "python",
   "pygments_lexer": "ipython3",
   "version": "3.6.6"
  }
 },
 "nbformat": 4,
 "nbformat_minor": 2
}
