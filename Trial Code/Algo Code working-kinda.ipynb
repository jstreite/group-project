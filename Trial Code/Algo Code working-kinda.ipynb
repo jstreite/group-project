{
 "cells": [
  {
   "cell_type": "code",
   "execution_count": null,
   "metadata": {},
   "outputs": [],
   "source": []
  },
  {
   "cell_type": "code",
   "execution_count": 2,
   "metadata": {
    "scrolled": false
   },
   "outputs": [],
   "source": [
    "import pandas as pd \n",
    "import requests as req\n",
    "import json \n",
    "\n",
    "\n",
    "import warnings \n",
    "warnings.filterwarnings('ignore')\n",
    "\n",
    "data = pd.read_csv('books.csv') # converting our data into a dataframe\n"
   ]
  },
  {
   "cell_type": "code",
   "execution_count": 2,
   "metadata": {
    "scrolled": true
   },
   "outputs": [
    {
     "name": "stdout",
     "output_type": "stream",
     "text": [
      "The Perfect Book List \n",
      " \n",
      "Lucky outputs random book list\n",
      "Search allows you to search our libary for specific books\n",
      "Tailored outputs book list based on your responses \n",
      "\n"
     ]
    }
   ],
   "source": [
    "print(\"The Perfect Book List \\n \")\n",
    "\n",
    "print(\"Lucky outputs random book list\")\n",
    "print(\"Search allows you to search our libary for specific books\")\n",
    "print('Tailored outputs book list based on your responses \\n')\n",
    "\n",
    "\n"
   ]
  },
  {
   "cell_type": "code",
   "execution_count": 12,
   "metadata": {},
   "outputs": [
    {
     "name": "stdout",
     "output_type": "stream",
     "text": [
      "GENRE PREFERENCE\n",
      "Enter Your Favorite From the List of Genres: Art\n",
      "PAGE NUMBER PREFERENCE\n",
      "1 for books with any amount of pages\n",
      "2 for books with 100 pages of less\n",
      "3 for books with 300 pages of less\n",
      "4 for books with more than 300 pages\n",
      "On a scale from 1-4, how long do you want the book to be? 2\n"
     ]
    },
    {
     "ename": "ValueError",
     "evalue": "The truth value of a Series is ambiguous. Use a.empty, a.bool(), a.item(), a.any() or a.all().",
     "output_type": "error",
     "traceback": [
      "\u001b[1;31m---------------------------------------------------------------------------\u001b[0m",
      "\u001b[1;31mValueError\u001b[0m                                Traceback (most recent call last)",
      "\u001b[1;32m<ipython-input-12-b74cf045ad68>\u001b[0m in \u001b[0;36m<module>\u001b[1;34m\u001b[0m\n\u001b[0;32m     26\u001b[0m \u001b[1;33m\u001b[0m\u001b[0m\n\u001b[0;32m     27\u001b[0m \u001b[1;32melif\u001b[0m \u001b[0mpages_pref\u001b[0m\u001b[1;33m==\u001b[0m\u001b[1;36m2\u001b[0m\u001b[1;33m:\u001b[0m\u001b[1;33m\u001b[0m\u001b[0m\n\u001b[1;32m---> 28\u001b[1;33m     \u001b[0mpages_db\u001b[0m \u001b[1;33m=\u001b[0m \u001b[0mgenre_db\u001b[0m\u001b[1;33m[\u001b[0m \u001b[1;33m(\u001b[0m\u001b[0mgenre_db\u001b[0m\u001b[1;33m[\u001b[0m\u001b[1;34m'PAges'\u001b[0m\u001b[1;33m]\u001b[0m\u001b[1;33m<=\u001b[0m \u001b[1;36m100\u001b[0m\u001b[1;33m)\u001b[0m \u001b[1;32mand\u001b[0m \u001b[1;33m(\u001b[0m\u001b[0mgenre_db\u001b[0m\u001b[1;33m[\u001b[0m\u001b[1;34m'PAges'\u001b[0m\u001b[1;33m]\u001b[0m\u001b[1;33m<\u001b[0m\u001b[1;36m300\u001b[0m\u001b[1;33m)\u001b[0m\u001b[1;33m]\u001b[0m\u001b[1;33m\u001b[0m\u001b[0m\n\u001b[0m\u001b[0;32m     29\u001b[0m \u001b[1;33m\u001b[0m\u001b[0m\n\u001b[0;32m     30\u001b[0m \u001b[1;32melif\u001b[0m \u001b[0mpages_pref\u001b[0m\u001b[1;33m==\u001b[0m\u001b[1;36m3\u001b[0m\u001b[1;33m:\u001b[0m\u001b[1;33m\u001b[0m\u001b[0m\n",
      "\u001b[1;32mc:\\users\\sthay\\appdata\\local\\programs\\python\\python36\\lib\\site-packages\\pandas\\core\\generic.py\u001b[0m in \u001b[0;36m__nonzero__\u001b[1;34m(self)\u001b[0m\n\u001b[0;32m   1574\u001b[0m         raise ValueError(\"The truth value of a {0} is ambiguous. \"\n\u001b[0;32m   1575\u001b[0m                          \u001b[1;34m\"Use a.empty, a.bool(), a.item(), a.any() or a.all().\"\u001b[0m\u001b[1;33m\u001b[0m\u001b[0m\n\u001b[1;32m-> 1576\u001b[1;33m                          .format(self.__class__.__name__))\n\u001b[0m\u001b[0;32m   1577\u001b[0m \u001b[1;33m\u001b[0m\u001b[0m\n\u001b[0;32m   1578\u001b[0m     \u001b[0m__bool__\u001b[0m \u001b[1;33m=\u001b[0m \u001b[0m__nonzero__\u001b[0m\u001b[1;33m\u001b[0m\u001b[0m\n",
      "\u001b[1;31mValueError\u001b[0m: The truth value of a Series is ambiguous. Use a.empty, a.bool(), a.item(), a.any() or a.all()."
     ]
    }
   ],
   "source": [
    "\n",
    "all_books = pd.read_csv('books.csv')\n",
    "\n",
    "\n",
    "# for a specific genre \n",
    "print('GENRE PREFERENCE')\n",
    "## create list of genres\n",
    "all_books['Genre'].value_counts \n",
    "genre_pref = input(\"Enter Your Favorite From the List of Genres: \")\n",
    "genre = all_books['Genre']==genre_pref # value in genre column eqaul to genre pref\n",
    "genre_db = all_books[genre] # new genre db is all books with new genre values\n",
    "genre_db\n",
    "\n",
    "\n",
    "# under genre find page number preference\n",
    "print('PAGE NUMBER PREFERENCE')\n",
    "print(\"1 for books with any amount of pages\")\n",
    "print(\"2 for books with 100 pages of less\")\n",
    "print(\"3 for books with 300 pages of less\")\n",
    "print(\"4 for books with more than 300 pages\")\n",
    "\n",
    "pages_pref = float(input(\"On a scale from 1-4, how long do you want the book to be? \"))\n",
    "\n",
    "if pages_pref==1:\n",
    "    pages_db = genre_db\n",
    "\n",
    "elif pages_pref==2:\n",
    "    pages_db = genre_db[ genre_db['PAges']<= 100]\n",
    "    \n",
    "elif pages_pref==3:\n",
    "    pages_db = genre_db[ genre_db['PAges']<= 300]\n",
    "    \n",
    "elif pages_pref==4: \n",
    "    pages_db = genre_db[ genre_db['PAges']> 300]\n",
    "    \n",
    "else: \n",
    "    print(\"invalid entry\")\n",
    "\n",
    "pages_db\n",
    "\n",
    "\n",
    "    \n",
    "\n",
    "\n",
    "\n",
    "\n"
   ]
  },
  {
   "cell_type": "code",
   "execution_count": 19,
   "metadata": {},
   "outputs": [
    {
     "name": "stdout",
     "output_type": "stream",
     "text": [
      "Enter Your Favorite From the List of Genres: Romance\n"
     ]
    }
   ],
   "source": [
    "# create database for each query then append all\n",
    "\n",
    "# genre database\n",
    "books_db['Genre'].value_counts \n",
    "genre_pref = input(\"Enter Your Favorite From the List of Genres: \")\n",
    "genre = books_db['Genre']==genre_pref\n",
    "genre_db = books_db[genre]\n",
    "\n",
    "# rate database\n",
    "\n",
    "# page database\n",
    "\n",
    "# date database"
   ]
  },
  {
   "cell_type": "code",
   "execution_count": 20,
   "metadata": {},
   "outputs": [
    {
     "name": "stdout",
     "output_type": "stream",
     "text": [
      "Enter a Rating 1-4\n",
      "1 for books with any amount of pages\n",
      "2 for books with 100 pages of less\n",
      "3 for books with 300 pages of less\n",
      "4 for books with more than 300 pages\n",
      "Enter a Rate 1-4: 2\n"
     ]
    },
    {
     "ename": "TypeError",
     "evalue": "'method' object is not subscriptable",
     "output_type": "error",
     "traceback": [
      "\u001b[1;31m---------------------------------------------------------------------------\u001b[0m",
      "\u001b[1;31mTypeError\u001b[0m                                 Traceback (most recent call last)",
      "\u001b[1;32m<ipython-input-20-02067cf5de1d>\u001b[0m in \u001b[0;36m<module>\u001b[1;34m\u001b[0m\n\u001b[0;32m     12\u001b[0m \u001b[1;33m\u001b[0m\u001b[0m\n\u001b[0;32m     13\u001b[0m \u001b[1;32melif\u001b[0m \u001b[0mpages_pref\u001b[0m\u001b[1;33m==\u001b[0m\u001b[1;36m2\u001b[0m\u001b[1;33m:\u001b[0m\u001b[1;33m\u001b[0m\u001b[0m\n\u001b[1;32m---> 14\u001b[1;33m     \u001b[0mpages\u001b[0m \u001b[1;33m=\u001b[0m \u001b[0mratings\u001b[0m\u001b[1;33m[\u001b[0m\u001b[1;34m'PAges'\u001b[0m\u001b[1;33m]\u001b[0m\u001b[1;33m<=\u001b[0m\u001b[1;36m100\u001b[0m\u001b[1;33m\u001b[0m\u001b[0m\n\u001b[0m\u001b[0;32m     15\u001b[0m \u001b[1;33m\u001b[0m\u001b[0m\n\u001b[0;32m     16\u001b[0m \u001b[1;33m\u001b[0m\u001b[0m\n",
      "\u001b[1;31mTypeError\u001b[0m: 'method' object is not subscriptable"
     ]
    }
   ],
   "source": [
    "print(\"Enter a Rating 1-4\")\n",
    "print(\"1 for books with any amount of pages\")\n",
    "print(\"2 for books with 100 pages of less\")\n",
    "print(\"3 for books with 300 pages of less\")\n",
    "print(\"4 for books with more than 300 pages\")\n",
    "\n",
    "pages_pref = int(input(\"Enter a Rate 1-4: \"))\n",
    "\n",
    "if pages_pref==1:\n",
    "    pages = ratings\n",
    "\n",
    "elif pages_pref==2:\n",
    "    pages_db = rating[ rating['PAges']<= 100]\n",
    "    \n",
    "\n"
   ]
  },
  {
   "cell_type": "code",
   "execution_count": 21,
   "metadata": {},
   "outputs": [
    {
     "ename": "SyntaxError",
     "evalue": "invalid syntax (<ipython-input-21-da47d5aa6e68>, line 14)",
     "output_type": "error",
     "traceback": [
      "\u001b[1;36m  File \u001b[1;32m\"<ipython-input-21-da47d5aa6e68>\"\u001b[1;36m, line \u001b[1;32m14\u001b[0m\n\u001b[1;33m    page = ratings['PAges']f\u001b[0m\n\u001b[1;37m                           ^\u001b[0m\n\u001b[1;31mSyntaxError\u001b[0m\u001b[1;31m:\u001b[0m invalid syntax\n"
     ]
    }
   ],
   "source": [
    "pages_pref = int(input('pages of books'))*100\n",
    "page = ratings['PAges']>= pages_pref\n",
    "if pages_pref <= 100:\n",
    "    page = ratings['PAges']<= pages_pref\n",
    "    pages = ratings[page]\n",
    "    \n",
    "elif pages_pref <= 200:\n",
    "    #pages_pref in range (100,201)\n",
    "    page = ratings['PAges']\n",
    "    pages = ratings[page]\n",
    "\n",
    "elif pages_pref >= 300:\n",
    "    #pages_pref in range (200,301)\n",
    "    page = ratings['PAges']f\n",
    "    pages = ratings[page]\n",
    "\n",
    "elif pages_pref >= 400:\n",
    "    #pages_pref in range (300,600)\n",
    "    page = ratings['PAges']\n",
    "    pages = ratings[page]\n",
    "\n",
    "pages\n",
    "\n"
   ]
  },
  {
   "cell_type": "code",
   "execution_count": null,
   "metadata": {},
   "outputs": [],
   "source": []
  },
  {
   "cell_type": "code",
   "execution_count": null,
   "metadata": {},
   "outputs": [],
   "source": []
  },
  {
   "cell_type": "code",
   "execution_count": null,
   "metadata": {},
   "outputs": [],
   "source": []
  },
  {
   "cell_type": "code",
   "execution_count": null,
   "metadata": {},
   "outputs": [],
   "source": [
    "start_search = input(\"Enter Lucky, or Tailored:\").upper()\n",
    "\n",
    "def sample_output(start_search):\n",
    "\n",
    "    if start_search == \"LUCKY\":\n",
    "        a = data.sample(3) # won't print out in a dataframe why? \n",
    "    else:\n",
    "        print('okay')\n",
    "\n",
    "    return (a)\n",
    "sample_output(start_search)"
   ]
  },
  {
   "cell_type": "code",
   "execution_count": null,
   "metadata": {},
   "outputs": [],
   "source": [
    "start_search = input(\"Enter Lucky, Search or Tailored:\").upper()\n",
    "sample_output(start_search)\n"
   ]
  },
  {
   "cell_type": "code",
   "execution_count": null,
   "metadata": {},
   "outputs": [],
   "source": [
    "\n"
   ]
  }
 ],
 "metadata": {
  "kernelspec": {
   "display_name": "Python 3",
   "language": "python",
   "name": "python3"
  },
  "language_info": {
   "codemirror_mode": {
    "name": "ipython",
    "version": 3
   },
   "file_extension": ".py",
   "mimetype": "text/x-python",
   "name": "python",
   "nbconvert_exporter": "python",
   "pygments_lexer": "ipython3",
   "version": "3.6.6"
  }
 },
 "nbformat": 4,
 "nbformat_minor": 2
}
