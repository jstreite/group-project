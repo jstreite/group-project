{
 "cells": [
  {
   "cell_type": "code",
   "execution_count": null,
   "metadata": {},
   "outputs": [],
   "source": []
  },
  {
   "cell_type": "code",
   "execution_count": 2,
   "metadata": {
    "scrolled": false
   },
   "outputs": [],
   "source": [
    "import pandas as pd \n",
    "import requests as req\n",
    "import json \n",
    "\n",
    "\n",
    "import warnings \n",
    "warnings.filterwarnings('ignore')\n",
    "\n",
    "data = pd.read_csv('books.csv') # converting our data into a dataframe\n"
   ]
  },
  {
   "cell_type": "code",
   "execution_count": 2,
   "metadata": {
    "scrolled": true
   },
   "outputs": [
    {
     "name": "stdout",
     "output_type": "stream",
     "text": [
      "The Perfect Book List \n",
      " \n",
      "Lucky outputs random book list\n",
      "Search allows you to search our libary for specific books\n",
      "Tailored outputs book list based on your responses \n",
      "\n"
     ]
    }
   ],
   "source": [
    "print(\"The Perfect Book List \\n \")\n",
    "\n",
    "print(\"Lucky outputs random book list\")\n",
    "print(\"Search allows you to search our libary for specific books\")\n",
    "print('Tailored outputs book list based on your responses \\n')\n",
    "\n",
    "\n"
   ]
  },
  {
   "cell_type": "code",
   "execution_count": null,
   "metadata": {},
   "outputs": [],
   "source": [
    "\n",
    "data = pd.read_csv('books.csv')\n",
    "\n",
    "\n",
    "# for a specific genre \n",
    "data['Genre'].value_counts\n",
    "genre = input(\"input a genre\")\n",
    "book = data['Genre']==genre\n",
    "books = data[book]\n",
    "books\n",
    "\n",
    "rating_pref = float(input(\"Enter rating preference 1-4: \"))\n",
    "rating = books['Rating']>=rating_pref\n",
    "ratings = books[rating]\n",
    "ratings\n",
    "    \n",
    "\n",
    "\n",
    "\n",
    "\n"
   ]
  },
  {
   "cell_type": "code",
   "execution_count": null,
   "metadata": {},
   "outputs": [],
   "source": []
  },
  {
   "cell_type": "code",
   "execution_count": null,
   "metadata": {},
   "outputs": [],
   "source": [
    "pages_pref = int(input('pages of books'))*100\n",
    "page = ratings['PAges']>= pages_pref\n",
    "if pages_pref <= 100:\n",
    "    page = ratings['PAges']<= pages_pref\n",
    "    pages = ratings[page]\n",
    "    \n",
    "elif pages_pref <= 200:\n",
    "    #pages_pref in range (100,201)\n",
    "    page = ratings['PAges']\n",
    "    pages = ratings[page]\n",
    "\n",
    "elif pages_pref >= 300:\n",
    "    #pages_pref in range (200,301)\n",
    "    page = ratings['PAges']f\n",
    "    pages = ratings[page]\n",
    "\n",
    "elif pages_pref >= 400:\n",
    "    #pages_pref in range (300,600)\n",
    "    page = ratings['PAges']\n",
    "    pages = ratings[page]\n",
    "\n",
    "pages\n",
    "\n"
   ]
  },
  {
   "cell_type": "code",
   "execution_count": null,
   "metadata": {},
   "outputs": [],
   "source": []
  },
  {
   "cell_type": "code",
   "execution_count": null,
   "metadata": {},
   "outputs": [],
   "source": []
  },
  {
   "cell_type": "code",
   "execution_count": null,
   "metadata": {},
   "outputs": [],
   "source": []
  },
  {
   "cell_type": "code",
   "execution_count": null,
   "metadata": {},
   "outputs": [],
   "source": [
    "start_search = input(\"Enter Lucky, or Tailored:\").upper()\n",
    "\n",
    "def sample_output(start_search):\n",
    "\n",
    "    if start_search == \"LUCKY\":\n",
    "        a = data.sample(3) # won't print out in a dataframe why? \n",
    "    else:\n",
    "        print('okay')\n",
    "\n",
    "    return (a)\n",
    "sample_output(start_search)"
   ]
  },
  {
   "cell_type": "code",
   "execution_count": null,
   "metadata": {},
   "outputs": [],
   "source": [
    "start_search = input(\"Enter Lucky, Search or Tailored:\").upper()\n",
    "sample_output(start_search)\n"
   ]
  },
  {
   "cell_type": "code",
   "execution_count": null,
   "metadata": {},
   "outputs": [],
   "source": [
    "\n"
   ]
  }
 ],
 "metadata": {
  "kernelspec": {
   "display_name": "Python 3",
   "language": "python",
   "name": "python3"
  },
  "language_info": {
   "codemirror_mode": {
    "name": "ipython",
    "version": 3
   },
   "file_extension": ".py",
   "mimetype": "text/x-python",
   "name": "python",
   "nbconvert_exporter": "python",
   "pygments_lexer": "ipython3",
   "version": "3.6.6"
  }
 },
 "nbformat": 4,
 "nbformat_minor": 2
}
