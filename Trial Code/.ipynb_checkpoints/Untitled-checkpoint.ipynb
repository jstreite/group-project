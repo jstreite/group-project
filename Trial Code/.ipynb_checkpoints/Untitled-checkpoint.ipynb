{
 "cells": [
  {
   "cell_type": "code",
   "execution_count": null,
   "metadata": {},
   "outputs": [],
   "source": []
  },
  {
   "cell_type": "code",
   "execution_count": 17,
   "metadata": {
    "scrolled": false
   },
   "outputs": [],
   "source": [
    "import pandas as pd \n",
    "import requests as req\n",
    "import json \n",
    "\n",
    "\n",
    "import warnings \n",
    "warnings.filterwarnings('ignore')\n",
    "\n",
    "data = pd.read_csv('books.csv') # converting our data into a dataframe\n"
   ]
  },
  {
   "cell_type": "code",
   "execution_count": 37,
   "metadata": {
    "scrolled": true
   },
   "outputs": [
    {
     "name": "stdout",
     "output_type": "stream",
     "text": [
      "The Perfect Book List \n",
      " \n",
      "Lucky outputs random book list\n",
      "Search allows you to search our libary for specific books\n",
      "Tailored outputs book list based on your responses \n",
      "\n",
      "Enter Lucky, Search or Tailored:search\n",
      "okay\n"
     ]
    },
    {
     "data": {
      "text/html": [
       "<div>\n",
       "<style scoped>\n",
       "    .dataframe tbody tr th:only-of-type {\n",
       "        vertical-align: middle;\n",
       "    }\n",
       "\n",
       "    .dataframe tbody tr th {\n",
       "        vertical-align: top;\n",
       "    }\n",
       "\n",
       "    .dataframe thead th {\n",
       "        text-align: right;\n",
       "    }\n",
       "</style>\n",
       "<table border=\"1\" class=\"dataframe\">\n",
       "  <thead>\n",
       "    <tr style=\"text-align: right;\">\n",
       "      <th></th>\n",
       "      <th>Title</th>\n",
       "      <th>Author</th>\n",
       "      <th>Genre</th>\n",
       "      <th>PAges</th>\n",
       "      <th>Rating</th>\n",
       "      <th>Publisher</th>\n",
       "    </tr>\n",
       "  </thead>\n",
       "  <tbody>\n",
       "    <tr>\n",
       "      <th>589</th>\n",
       "      <td>When He Was Wicked (Bridgertons, #6)</td>\n",
       "      <td>Julia Quinn</td>\n",
       "      <td>Romance</td>\n",
       "      <td>368</td>\n",
       "      <td>4.03</td>\n",
       "      <td>Avon</td>\n",
       "    </tr>\n",
       "    <tr>\n",
       "      <th>110</th>\n",
       "      <td>Anne of Green Gables (Anne of Green Gables, #1)</td>\n",
       "      <td>L.M. Montgomery</td>\n",
       "      <td>Children</td>\n",
       "      <td>320</td>\n",
       "      <td>4.24</td>\n",
       "      <td>Signet Book</td>\n",
       "    </tr>\n",
       "    <tr>\n",
       "      <th>621</th>\n",
       "      <td>The Next Always (Inn BoonsBoro, #1)</td>\n",
       "      <td>Nora Roberts</td>\n",
       "      <td>Romance</td>\n",
       "      <td>352</td>\n",
       "      <td>4.11</td>\n",
       "      <td>Brilliance Audio</td>\n",
       "    </tr>\n",
       "  </tbody>\n",
       "</table>\n",
       "</div>"
      ],
      "text/plain": [
       "                                               Title           Author  \\\n",
       "589             When He Was Wicked (Bridgertons, #6)      Julia Quinn   \n",
       "110  Anne of Green Gables (Anne of Green Gables, #1)  L.M. Montgomery   \n",
       "621              The Next Always (Inn BoonsBoro, #1)     Nora Roberts   \n",
       "\n",
       "        Genre  PAges  Rating         Publisher  \n",
       "589   Romance    368    4.03              Avon  \n",
       "110  Children    320    4.24       Signet Book  \n",
       "621   Romance    352    4.11  Brilliance Audio  "
      ]
     },
     "execution_count": 37,
     "metadata": {},
     "output_type": "execute_result"
    }
   ],
   "source": [
    "print(\"The Perfect Book List \\n \")\n",
    "\n",
    "print(\"Lucky outputs random book list\")\n",
    "print(\"Search allows you to search our libary for specific books\")\n",
    "print('Tailored outputs book list based on your responses \\n')\n",
    "\n",
    "start_search = input(\"Enter Lucky, Search or Tailored:\").upper()\n",
    "\n",
    "if start_search == \"LUCKY\":\n",
    "    print(data.sample(3)) # won't print out in a dataframe why? \n",
    "else:\n",
    "    print('okay')\n",
    "\n",
    "    \n",
    "sample\n"
   ]
  },
  {
   "cell_type": "code",
   "execution_count": null,
   "metadata": {},
   "outputs": [],
   "source": [
    "start_search = input(\"Enter Lucky, Search or Tailored:\").upper()\n",
    "\n",
    "if start_search == \"LUCKY\":\n",
    "    print(data.sample(3)) # won't print out in a dataframe why? \n",
    "    \n",
    "    \n",
    "elif start_search == \"Search\":\n",
    "    book = input(\"Enter title of book:\")\n",
    "    \n",
    "    \n",
    "    \n"
   ]
  },
  {
   "cell_type": "code",
   "execution_count": 38,
   "metadata": {},
   "outputs": [],
   "source": [
    "\n",
    "def sample_output(start_search):\n",
    "\n",
    "    if start_search == \"LUCKY\":\n",
    "        a = data.sample(3) # won't print out in a dataframe why? \n",
    "    else:\n",
    "        print('okay')\n",
    "\n",
    "    return (a)\n",
    "\n"
   ]
  },
  {
   "cell_type": "code",
   "execution_count": 39,
   "metadata": {},
   "outputs": [
    {
     "name": "stdout",
     "output_type": "stream",
     "text": [
      "Enter Lucky, Search or Tailored:lucky\n"
     ]
    },
    {
     "data": {
      "text/html": [
       "<div>\n",
       "<style scoped>\n",
       "    .dataframe tbody tr th:only-of-type {\n",
       "        vertical-align: middle;\n",
       "    }\n",
       "\n",
       "    .dataframe tbody tr th {\n",
       "        vertical-align: top;\n",
       "    }\n",
       "\n",
       "    .dataframe thead th {\n",
       "        text-align: right;\n",
       "    }\n",
       "</style>\n",
       "<table border=\"1\" class=\"dataframe\">\n",
       "  <thead>\n",
       "    <tr style=\"text-align: right;\">\n",
       "      <th></th>\n",
       "      <th>Title</th>\n",
       "      <th>Author</th>\n",
       "      <th>Genre</th>\n",
       "      <th>PAges</th>\n",
       "      <th>Rating</th>\n",
       "      <th>Publisher</th>\n",
       "    </tr>\n",
       "  </thead>\n",
       "  <tbody>\n",
       "    <tr>\n",
       "      <th>80</th>\n",
       "      <td>The Silver Chair (Chronicles of Narnia, #4)</td>\n",
       "      <td>C.S. Lewis</td>\n",
       "      <td>Children</td>\n",
       "      <td>243</td>\n",
       "      <td>3.96</td>\n",
       "      <td>HarperCollins</td>\n",
       "    </tr>\n",
       "    <tr>\n",
       "      <th>685</th>\n",
       "      <td>Beautiful Creatures (Caster Chronicles, #1)</td>\n",
       "      <td>Kami Garcia</td>\n",
       "      <td>Romance</td>\n",
       "      <td>563</td>\n",
       "      <td>3.76</td>\n",
       "      <td>Little, Brown and Company</td>\n",
       "    </tr>\n",
       "    <tr>\n",
       "      <th>448</th>\n",
       "      <td>Fullmetal Alchemist, Vol. 7 (Fullmetal Alchemi...</td>\n",
       "      <td>Hiromu Arakawa</td>\n",
       "      <td>Anime</td>\n",
       "      <td>200</td>\n",
       "      <td>4.57</td>\n",
       "      <td>VIZ Media LLC</td>\n",
       "    </tr>\n",
       "  </tbody>\n",
       "</table>\n",
       "</div>"
      ],
      "text/plain": [
       "                                                 Title          Author  \\\n",
       "80         The Silver Chair (Chronicles of Narnia, #4)      C.S. Lewis   \n",
       "685        Beautiful Creatures (Caster Chronicles, #1)     Kami Garcia   \n",
       "448  Fullmetal Alchemist, Vol. 7 (Fullmetal Alchemi...  Hiromu Arakawa   \n",
       "\n",
       "        Genre  PAges  Rating                  Publisher  \n",
       "80   Children    243    3.96              HarperCollins  \n",
       "685   Romance    563    3.76  Little, Brown and Company  \n",
       "448    Anime     200    4.57              VIZ Media LLC  "
      ]
     },
     "execution_count": 39,
     "metadata": {},
     "output_type": "execute_result"
    }
   ],
   "source": [
    "start_search = input(\"Enter Lucky, Search or Tailored:\").upper()\n",
    "sample_output(start_search)"
   ]
  },
  {
   "cell_type": "code",
   "execution_count": null,
   "metadata": {},
   "outputs": [],
   "source": []
  },
  {
   "cell_type": "code",
   "execution_count": null,
   "metadata": {},
   "outputs": [],
   "source": []
  }
 ],
 "metadata": {
  "kernelspec": {
   "display_name": "Python 3",
   "language": "python",
   "name": "python3"
  },
  "language_info": {
   "codemirror_mode": {
    "name": "ipython",
    "version": 3
   },
   "file_extension": ".py",
   "mimetype": "text/x-python",
   "name": "python",
   "nbconvert_exporter": "python",
   "pygments_lexer": "ipython3",
   "version": "3.6.6"
  }
 },
 "nbformat": 4,
 "nbformat_minor": 2
}
